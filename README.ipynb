{
 "cells": [
  {
   "cell_type": "markdown",
   "metadata": {},
   "source": [
    "# blitz-replays\n",
    "\n",
    "Set of command line tools to upload and analyze WoT Blitz replays.\n",
    "\n",
    "## Status\n",
    "\n",
    "- [x] `blitz-data`:\n",
    "  - [x] `tankopedia`: Extraction of Tankopedia from game files or WG API\n",
    "  - [x] `maps`: Extraction of maps from game files\n",
    "- [x] `blitz-replays`:\n",
    "  - [x] `upload`: Replay upload\n",
    "  - [ ] `analyze`: Replay analysis. Please use old [blitz-tools](../blitz-tools/)\n",
    "  - [ ] `parse`: Parsing replays client-side\n",
    "\n",
    "## Install \n",
    "\n",
    "You need [Python 3.11](https://python.org/) or later installed. \n",
    "\n",
    "```\n",
    "pip install --upgrade git+https://github.com/Jylpah/blitz-replays.git\n",
    "```\n",
    "\n",
    "## Upgrade\n",
    "\n",
    "```\n",
    "pip install --upgrade git+https://github.com/Jylpah/blitz-replays.git\n",
    "```\n"
   ]
  },
  {
   "cell_type": "code",
   "execution_count": 4,
   "metadata": {},
   "outputs": [
    {
     "name": "stdout",
     "output_type": "stream",
     "text": [
      "## `blitz-data` usage\n",
      "\n",
      "```\n",
      "\n",
      "```\n",
      "### `blitz-data tankopedia` usage\n",
      "\n",
      "```\n",
      "\n",
      "```\n",
      "### `blitz-data tankopedia wg` usage\n",
      "\n",
      "```\n",
      "\n",
      "```\n",
      "### `blitz-data tankopedia app` usage\n",
      "\n",
      "```\n",
      "\n",
      "```\n",
      "### `blitz-data maps` usage\n",
      "\n",
      "```\n",
      "\n",
      "```\n",
      "### `blitz-data maps app` usage\n",
      "\n",
      "```\n",
      "\n",
      "```\n",
      "## `blitz-replays` usage\n",
      "\n",
      "```\n",
      "\n",
      "```\n",
      "### `blitz-replays upload` usage\n",
      "\n",
      "```\n",
      "\n",
      "```\n"
     ]
    }
   ],
   "source": [
    "from pyutils.utils import TyperHelpGen\n",
    "from src.blitzreplays.blitzdata import cli as blitzdata\n",
    "from src.blitzreplays.blitzreplays import cli as blitzreplays\n",
    "\n",
    "bd = TyperHelpGen(blitzdata, \"blitz-data\")\n",
    "\n",
    "bd.add_command([\"tankopedia\"])\n",
    "bd.add_command([\"tankopedia\", \"wg\"])\n",
    "bd.add_command([\"tankopedia\", \"app\"])\n",
    "bd.add_command([\"maps\"])\n",
    "bd.add_command([\"maps\", \"app\"])\n",
    "print(bd.mk_docs())\n",
    "\n",
    "br = TyperHelpGen(blitzreplays, \"blitz-replays\")\n",
    "br.add_command([\"upload\"])\n",
    "print(br.mk_docs())"
   ]
  },
  {
   "cell_type": "code",
   "execution_count": null,
   "metadata": {
    "tags": []
   },
   "outputs": [],
   "source": [
    "from click.testing import CliRunner\n",
    "from src.blitzreplays.blitzdata import cli\n",
    "prog: str = \"blitz-data\"\n",
    "command : list[str] = [\"tankopedia\", \"--help\"]\n",
    "\n",
    "if len(command) > 1:\n",
    "    print(f\"### `{prog} {' '.join(command[:-1])}` usage\")\n",
    "else:\n",
    "    print(f\"## `{prog}` usage\")\n",
    "print(\"\")\n",
    "print(\"```\")\n",
    "result = CliRunner().invoke(cli, args=command, prog_name=prog)\n",
    "print(result.stdout)\n",
    "print(\"```\")"
   ]
  },
  {
   "cell_type": "code",
   "execution_count": null,
   "metadata": {},
   "outputs": [],
   "source": [
    "from click.testing import CliRunner\n",
    "from src.blitzreplays.blitzdata import cli\n",
    "prog: str = \"blitz-data\"\n",
    "command : list[str] = [\"maps\", \"--help\"]\n",
    "\n",
    "if len(command) > 1:\n",
    "    print(f\"### `{prog} {' '.join(command[:-1])}` usage\")\n",
    "else:\n",
    "    print(f\"## `{prog}` usage\")\n",
    "print(\"\")\n",
    "print(\"```\")\n",
    "result = CliRunner().invoke(cli, args=command, prog_name=prog)\n",
    "print(result.stdout)\n",
    "print(\"```\")"
   ]
  },
  {
   "cell_type": "code",
   "execution_count": null,
   "metadata": {},
   "outputs": [],
   "source": [
    "from click.testing import CliRunner\n",
    "from src.blitzreplays.blitzreplays import cli\n",
    "prog: str = \"blitz-replays\"\n",
    "command : list[str] = [\"--help\"]\n",
    "\n",
    "if len(command) > 1:\n",
    "    print(f\"### `{prog} {' '.join(command[:-1])}` usage\")\n",
    "else:\n",
    "    print(f\"## `{prog}` usage\")\n",
    "print(\"\")\n",
    "print(\"```\")\n",
    "result = CliRunner().invoke(cli, args=command, prog_name=prog)\n",
    "print(result.stdout)\n",
    "print(\"```\")"
   ]
  },
  {
   "cell_type": "code",
   "execution_count": null,
   "metadata": {},
   "outputs": [],
   "source": [
    "from click.testing import CliRunner\n",
    "from src.blitzreplays.blitzreplays import cli\n",
    "prog: str = \"blitz-replays\"\n",
    "command : list[str] = [\"upload\", \"--help\"]\n",
    "\n",
    "if len(command) > 1:\n",
    "    print(f\"### `{prog} {' '.join(command[:-1])}` usage\")\n",
    "else:\n",
    "    print(f\"## `{prog}` usage\")\n",
    "print(\"\")\n",
    "print(\"```\")\n",
    "result = CliRunner().invoke(cli, args=command, prog_name=prog)\n",
    "print(result.stdout)\n",
    "print(\"```\")"
   ]
  }
 ],
 "metadata": {
  "kernelspec": {
   "display_name": ".venv",
   "language": "python",
   "name": "python3"
  },
  "language_info": {
   "codemirror_mode": {
    "name": "ipython",
    "version": 3
   },
   "file_extension": ".py",
   "mimetype": "text/x-python",
   "name": "python",
   "nbconvert_exporter": "python",
   "pygments_lexer": "ipython3",
   "version": "3.11.7"
  }
 },
 "nbformat": 4,
 "nbformat_minor": 2
}
