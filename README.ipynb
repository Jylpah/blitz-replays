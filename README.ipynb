{
 "cells": [
  {
   "cell_type": "markdown",
   "metadata": {},
   "source": [
    "# blitz-replays\n",
    "\n",
    "Set of command line tools to upload and analyze WoT Blitz replays.\n",
    "\n",
    "## Status\n",
    "\n",
    "- [x] `blitz-data`:\n",
    "  - [x] `tankopedia`: Extraction of Tankopedia from game files or WG API\n",
    "  - [x] `maps`: Extraction of maps from game files\n",
    "- [x] `blitz-replays`:\n",
    "  - [x] `upload`: Replay upload\n",
    "  - [ ] `analyze`: Replay analysis. Please use old [blitz-tools](../blitz-tools/)\n",
    "  - [ ] `parse`: Parsing replays client-side\n",
    "\n",
    "## Install \n",
    "\n",
    "You need [Python 3.11](https://python.org/) or later installed. \n",
    "\n",
    "```\n",
    "pip install --upgrade git+https://github.com/Jylpah/blitz-replays.git\n",
    "```\n",
    "\n",
    "## Upgrade\n",
    "\n",
    "```\n",
    "pip install --upgrade git+https://github.com/Jylpah/blitz-replays.git\n",
    "```\n"
   ]
  },
  {
   "cell_type": "code",
   "execution_count": 11,
   "metadata": {},
   "outputs": [
    {
     "name": "stdout",
     "output_type": "stream",
     "text": [
      "### `blitz-data` usage\n",
      "\n",
      "```\n",
      "Usage: blitz-data [OPTIONS] COMMAND [ARGS]...\n",
      "\n",
      "  CLI tool extract WoT Blitz metadata for other tools\n",
      "\n",
      "Options:\n",
      "  --normal       default verbosity\n",
      "  --verbose      verbose logging\n",
      "  --debug        debug logging\n",
      "  --config PATH  read config from file (default:\n",
      "                 /home/jarno/.config/blitzstats/config)\n",
      "  --log PATH     log to FILE\n",
      "  --help         Show this message and exit.\n",
      "\n",
      "Commands:\n",
      "  maps        extract maps data into a JSON file\n",
      "  tankopedia  extract tankopedia as JSON file for other tools\n",
      "\n",
      "```\n"
     ]
    }
   ],
   "source": [
    "from click.testing import CliRunner\n",
    "from src.blitzreplays.blitzdata import cli\n",
    "prog: str = \"blitz-data\"\n",
    "command : list[str] = [\"--help\"]\n",
    "if len(command) > 1:\n",
    "    print(f\"### `{prog} {' '.join(command[:-1])}` usage\")\n",
    "else:\n",
    "    print(f\"## `{prog}` usage\")\n",
    "print(\"\")\n",
    "print(\"```\")\n",
    "result = CliRunner().invoke(cli, args=command, prog_name=prog)\n",
    "print(result.stdout)\n",
    "print(\"```\")"
   ]
  },
  {
   "cell_type": "code",
   "execution_count": 12,
   "metadata": {
    "tags": []
   },
   "outputs": [
    {
     "name": "stdout",
     "output_type": "stream",
     "text": [
      "### `blitz-data tankopedia` usage\n",
      "\n",
      "```\n",
      "Usage: blitz-data tankopedia [OPTIONS] COMMAND [ARGS]...\n",
      "\n",
      "  extract tankopedia as JSON file for other tools\n",
      "\n",
      "Options:\n",
      "  -f, --force     Overwrite Tankopedia instead of updating it\n",
      "  --outfile PATH  Write Tankopedia to file (default: tanks.json)\n",
      "  --help          Show this message and exit.\n",
      "\n",
      "Commands:\n",
      "  app   extract Tankopedia from Blitz game files\n",
      "  file  read Tankopedia from a JSON file\n",
      "  wg    get Tankopedia from WG API\n",
      "\n",
      "```\n"
     ]
    }
   ],
   "source": [
    "from click.testing import CliRunner\n",
    "from src.blitzreplays.blitzdata import cli\n",
    "prog: str = \"blitz-data\"\n",
    "command : list[str] = [\"tankopedia\", \"--help\"]\n",
    "\n",
    "if len(command) > 1:\n",
    "    print(f\"### `{prog} {' '.join(command[:-1])}` usage\")\n",
    "else:\n",
    "    print(f\"### `{prog}` usage\")\n",
    "print(\"\")\n",
    "print(\"```\")\n",
    "result = CliRunner().invoke(cli, args=command, prog_name=prog)\n",
    "print(result.stdout)\n",
    "print(\"```\")"
   ]
  },
  {
   "cell_type": "code",
   "execution_count": 13,
   "metadata": {},
   "outputs": [
    {
     "name": "stdout",
     "output_type": "stream",
     "text": [
      "### `blitz-data maps` usage\n",
      "\n",
      "```\n",
      "Usage: blitz-data maps [OPTIONS] COMMAND [ARGS]...\n",
      "\n",
      "  extract maps data into a JSON file\n",
      "\n",
      "Options:\n",
      "  -f, --force     Overwrite maps data instead of updating it\n",
      "  --outfile PATH  Write maps to file (default: maps.json)\n",
      "  --help          Show this message and exit.\n",
      "\n",
      "Commands:\n",
      "  app   read maps data from Blitz game files\n",
      "  file  read maps data from a JSON file\n",
      "\n",
      "```\n"
     ]
    }
   ],
   "source": [
    "from click.testing import CliRunner\n",
    "from src.blitzreplays.blitzdata import cli\n",
    "prog: str = \"blitz-data\"\n",
    "command : list[str] = [\"maps\", \"--help\"]\n",
    "\n",
    "if len(command) > 1:\n",
    "    print(f\"### `{prog} {' '.join(command[:-1])}` usage\")\n",
    "else:\n",
    "    print(f\"### `{prog}` usage\")\n",
    "print(\"\")\n",
    "print(\"```\")\n",
    "result = CliRunner().invoke(cli, args=command, prog_name=prog)\n",
    "print(result.stdout)\n",
    "print(\"```\")"
   ]
  },
  {
   "cell_type": "code",
   "execution_count": 14,
   "metadata": {},
   "outputs": [
    {
     "name": "stdout",
     "output_type": "stream",
     "text": [
      "### `blitz-replays` usage\n",
      "\n",
      "```\n",
      "Usage: blitz-replays [OPTIONS] COMMAND [ARGS]...\n",
      "\n",
      "  CLI tool upload WoT Blitz Replays to WoTinspector.com\n",
      "\n",
      "Options:\n",
      "  --normal               default verbosity\n",
      "  --verbose              verbose logging\n",
      "  --debug                debug logging\n",
      "  --config PATH          read config from file (default:\n",
      "                         /home/jarno/.config/blitzstats/config)\n",
      "  --log PATH             log to FILE\n",
      "  --wi-rate-limit FLOAT  rate-limit for WoTinspector.com\n",
      "  --wi-auth_token TEXT   authentication token for WoTinsepctor.com\n",
      "  --tankopedia TEXT      tankopedia JSON file\n",
      "  --maps TEXT            maps JSON file\n",
      "  --help                 Show this message and exit.\n",
      "\n",
      "Commands:\n",
      "  upload\n",
      "\n",
      "```\n"
     ]
    }
   ],
   "source": [
    "from click.testing import CliRunner\n",
    "from src.blitzreplays.blitzreplays import cli\n",
    "prog: str = \"blitz-replays\"\n",
    "command : list[str] = [\"--help\"]\n",
    "\n",
    "if len(command) > 1:\n",
    "    print(f\"### `{prog} {' '.join(command[:-1])}` usage\")\n",
    "else:\n",
    "    print(f\"### `{prog}` usage\")\n",
    "print(\"\")\n",
    "print(\"```\")\n",
    "result = CliRunner().invoke(cli, args=command, prog_name=prog)\n",
    "print(result.stdout)\n",
    "print(\"```\")"
   ]
  },
  {
   "cell_type": "code",
   "execution_count": 15,
   "metadata": {},
   "outputs": [
    {
     "name": "stdout",
     "output_type": "stream",
     "text": [
      "### `blitz-replays upload` usage\n",
      "\n",
      "```\n",
      "Usage: blitz-replays upload [OPTIONS] [REPLAYS]...\n",
      "\n",
      "Options:\n",
      "  --json                 fetch replay JSON files for analysis (default=False)\n",
      "  --uploaded_by INTEGER  WG account_id of the uploader\n",
      "  --private              upload replays as private without listing those\n",
      "                         publicly (default=False)\n",
      "  --help                 Show this message and exit.\n",
      "\n",
      "```\n"
     ]
    }
   ],
   "source": [
    "from click.testing import CliRunner\n",
    "from src.blitzreplays.blitzreplays import cli\n",
    "prog: str = \"blitz-replays\"\n",
    "command : list[str] = [\"upload\", \"--help\"]\n",
    "\n",
    "if len(command) > 1:\n",
    "    print(f\"### `{prog} {' '.join(command[:-1])}` usage\")\n",
    "else:\n",
    "    print(f\"### `{prog}` usage\")\n",
    "print(\"\")\n",
    "print(\"```\")\n",
    "result = CliRunner().invoke(cli, args=command, prog_name=prog)\n",
    "print(result.stdout)\n",
    "print(\"```\")"
   ]
  }
 ],
 "metadata": {
  "kernelspec": {
   "display_name": ".venv",
   "language": "python",
   "name": "python3"
  },
  "language_info": {
   "codemirror_mode": {
    "name": "ipython",
    "version": 3
   },
   "file_extension": ".py",
   "mimetype": "text/x-python",
   "name": "python",
   "nbconvert_exporter": "python",
   "pygments_lexer": "ipython3",
   "version": "3.11.5"
  }
 },
 "nbformat": 4,
 "nbformat_minor": 2
}
